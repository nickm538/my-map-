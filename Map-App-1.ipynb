{
 "cells": [
  {
   "cell_type": "code",
   "execution_count": 1,
   "metadata": {},
   "outputs": [
    {
     "name": "stdout",
     "output_type": "stream",
     "text": [
      "Requirement already satisfied: folium in c:\\users\\nicholasmamatos\\onedrive - long island coalition for the homeless\\documents\\github\\nickm538\\.venv\\lib\\site-packages (0.19.4)\n",
      "Requirement already satisfied: ipyleaflet in c:\\users\\nicholasmamatos\\onedrive - long island coalition for the homeless\\documents\\github\\nickm538\\.venv\\lib\\site-packages (0.19.2)\n",
      "Requirement already satisfied: branca>=0.6.0 in c:\\users\\nicholasmamatos\\onedrive - long island coalition for the homeless\\documents\\github\\nickm538\\.venv\\lib\\site-packages (from folium) (0.8.1)\n",
      "Requirement already satisfied: jinja2>=2.9 in c:\\users\\nicholasmamatos\\onedrive - long island coalition for the homeless\\documents\\github\\nickm538\\.venv\\lib\\site-packages (from folium) (3.1.4)\n",
      "Requirement already satisfied: numpy in c:\\users\\nicholasmamatos\\onedrive - long island coalition for the homeless\\documents\\github\\nickm538\\.venv\\lib\\site-packages (from folium) (2.2.3)\n",
      "Requirement already satisfied: requests in c:\\users\\nicholasmamatos\\onedrive - long island coalition for the homeless\\documents\\github\\nickm538\\.venv\\lib\\site-packages (from folium) (2.32.3)\n",
      "Requirement already satisfied: xyzservices in c:\\users\\nicholasmamatos\\onedrive - long island coalition for the homeless\\documents\\github\\nickm538\\.venv\\lib\\site-packages (from folium) (2025.1.0)\n",
      "Requirement already satisfied: ipywidgets<9,>=7.6.0 in c:\\users\\nicholasmamatos\\onedrive - long island coalition for the homeless\\documents\\github\\nickm538\\.venv\\lib\\site-packages (from ipyleaflet) (8.1.5)\n",
      "Requirement already satisfied: jupyter-leaflet<0.20,>=0.19 in c:\\users\\nicholasmamatos\\onedrive - long island coalition for the homeless\\documents\\github\\nickm538\\.venv\\lib\\site-packages (from ipyleaflet) (0.19.2)\n",
      "Requirement already satisfied: traittypes<3,>=0.2.1 in c:\\users\\nicholasmamatos\\onedrive - long island coalition for the homeless\\documents\\github\\nickm538\\.venv\\lib\\site-packages (from ipyleaflet) (0.2.1)\n",
      "Requirement already satisfied: comm>=0.1.3 in c:\\users\\nicholasmamatos\\onedrive - long island coalition for the homeless\\documents\\github\\nickm538\\.venv\\lib\\site-packages (from ipywidgets<9,>=7.6.0->ipyleaflet) (0.2.2)\n",
      "Requirement already satisfied: ipython>=6.1.0 in c:\\users\\nicholasmamatos\\onedrive - long island coalition for the homeless\\documents\\github\\nickm538\\.venv\\lib\\site-packages (from ipywidgets<9,>=7.6.0->ipyleaflet) (8.32.0)\n",
      "Requirement already satisfied: traitlets>=4.3.1 in c:\\users\\nicholasmamatos\\onedrive - long island coalition for the homeless\\documents\\github\\nickm538\\.venv\\lib\\site-packages (from ipywidgets<9,>=7.6.0->ipyleaflet) (5.14.3)\n",
      "Requirement already satisfied: widgetsnbextension~=4.0.12 in c:\\users\\nicholasmamatos\\onedrive - long island coalition for the homeless\\documents\\github\\nickm538\\.venv\\lib\\site-packages (from ipywidgets<9,>=7.6.0->ipyleaflet) (4.0.13)\n",
      "Requirement already satisfied: jupyterlab-widgets~=3.0.12 in c:\\users\\nicholasmamatos\\onedrive - long island coalition for the homeless\\documents\\github\\nickm538\\.venv\\lib\\site-packages (from ipywidgets<9,>=7.6.0->ipyleaflet) (3.0.13)\n",
      "Requirement already satisfied: MarkupSafe>=2.0 in c:\\users\\nicholasmamatos\\onedrive - long island coalition for the homeless\\documents\\github\\nickm538\\.venv\\lib\\site-packages (from jinja2>=2.9->folium) (3.0.2)\n",
      "Requirement already satisfied: charset-normalizer<4,>=2 in c:\\users\\nicholasmamatos\\onedrive - long island coalition for the homeless\\documents\\github\\nickm538\\.venv\\lib\\site-packages (from requests->folium) (3.4.1)\n",
      "Requirement already satisfied: idna<4,>=2.5 in c:\\users\\nicholasmamatos\\onedrive - long island coalition for the homeless\\documents\\github\\nickm538\\.venv\\lib\\site-packages (from requests->folium) (3.10)\n",
      "Requirement already satisfied: urllib3<3,>=1.21.1 in c:\\users\\nicholasmamatos\\onedrive - long island coalition for the homeless\\documents\\github\\nickm538\\.venv\\lib\\site-packages (from requests->folium) (2.3.0)\n",
      "Requirement already satisfied: certifi>=2017.4.17 in c:\\users\\nicholasmamatos\\onedrive - long island coalition for the homeless\\documents\\github\\nickm538\\.venv\\lib\\site-packages (from requests->folium) (2025.1.31)\n",
      "Requirement already satisfied: colorama in c:\\users\\nicholasmamatos\\onedrive - long island coalition for the homeless\\documents\\github\\nickm538\\.venv\\lib\\site-packages (from ipython>=6.1.0->ipywidgets<9,>=7.6.0->ipyleaflet) (0.4.6)\n",
      "Requirement already satisfied: decorator in c:\\users\\nicholasmamatos\\onedrive - long island coalition for the homeless\\documents\\github\\nickm538\\.venv\\lib\\site-packages (from ipython>=6.1.0->ipywidgets<9,>=7.6.0->ipyleaflet) (5.2.1)\n",
      "Requirement already satisfied: jedi>=0.16 in c:\\users\\nicholasmamatos\\onedrive - long island coalition for the homeless\\documents\\github\\nickm538\\.venv\\lib\\site-packages (from ipython>=6.1.0->ipywidgets<9,>=7.6.0->ipyleaflet) (0.19.2)\n",
      "Requirement already satisfied: matplotlib-inline in c:\\users\\nicholasmamatos\\onedrive - long island coalition for the homeless\\documents\\github\\nickm538\\.venv\\lib\\site-packages (from ipython>=6.1.0->ipywidgets<9,>=7.6.0->ipyleaflet) (0.1.7)\n",
      "Requirement already satisfied: prompt_toolkit<3.1.0,>=3.0.41 in c:\\users\\nicholasmamatos\\onedrive - long island coalition for the homeless\\documents\\github\\nickm538\\.venv\\lib\\site-packages (from ipython>=6.1.0->ipywidgets<9,>=7.6.0->ipyleaflet) (3.0.50)\n",
      "Requirement already satisfied: pygments>=2.4.0 in c:\\users\\nicholasmamatos\\onedrive - long island coalition for the homeless\\documents\\github\\nickm538\\.venv\\lib\\site-packages (from ipython>=6.1.0->ipywidgets<9,>=7.6.0->ipyleaflet) (2.19.1)\n",
      "Requirement already satisfied: stack_data in c:\\users\\nicholasmamatos\\onedrive - long island coalition for the homeless\\documents\\github\\nickm538\\.venv\\lib\\site-packages (from ipython>=6.1.0->ipywidgets<9,>=7.6.0->ipyleaflet) (0.6.3)\n",
      "Requirement already satisfied: typing_extensions>=4.6 in c:\\users\\nicholasmamatos\\onedrive - long island coalition for the homeless\\documents\\github\\nickm538\\.venv\\lib\\site-packages (from ipython>=6.1.0->ipywidgets<9,>=7.6.0->ipyleaflet) (4.12.2)\n",
      "Requirement already satisfied: parso<0.9.0,>=0.8.4 in c:\\users\\nicholasmamatos\\onedrive - long island coalition for the homeless\\documents\\github\\nickm538\\.venv\\lib\\site-packages (from jedi>=0.16->ipython>=6.1.0->ipywidgets<9,>=7.6.0->ipyleaflet) (0.8.4)\n",
      "Requirement already satisfied: wcwidth in c:\\users\\nicholasmamatos\\onedrive - long island coalition for the homeless\\documents\\github\\nickm538\\.venv\\lib\\site-packages (from prompt_toolkit<3.1.0,>=3.0.41->ipython>=6.1.0->ipywidgets<9,>=7.6.0->ipyleaflet) (0.2.13)\n",
      "Requirement already satisfied: executing>=1.2.0 in c:\\users\\nicholasmamatos\\onedrive - long island coalition for the homeless\\documents\\github\\nickm538\\.venv\\lib\\site-packages (from stack_data->ipython>=6.1.0->ipywidgets<9,>=7.6.0->ipyleaflet) (2.2.0)\n",
      "Requirement already satisfied: asttokens>=2.1.0 in c:\\users\\nicholasmamatos\\onedrive - long island coalition for the homeless\\documents\\github\\nickm538\\.venv\\lib\\site-packages (from stack_data->ipython>=6.1.0->ipywidgets<9,>=7.6.0->ipyleaflet) (3.0.0)\n",
      "Requirement already satisfied: pure-eval in c:\\users\\nicholasmamatos\\onedrive - long island coalition for the homeless\\documents\\github\\nickm538\\.venv\\lib\\site-packages (from stack_data->ipython>=6.1.0->ipywidgets<9,>=7.6.0->ipyleaflet) (0.2.3)\n"
     ]
    },
    {
     "name": "stderr",
     "output_type": "stream",
     "text": [
      "\n",
      "[notice] A new release of pip is available: 24.3.1 -> 25.0.1\n",
      "[notice] To update, run: python.exe -m pip install --upgrade pip\n"
     ]
    }
   ],
   "source": [
    "!pip install folium ipyleaflet"
   ]
  },
  {
   "cell_type": "code",
   "execution_count": null,
   "metadata": {},
   "outputs": [],
   "source": []
  },
  {
   "cell_type": "code",
   "execution_count": 2,
   "metadata": {},
   "outputs": [
    {
     "data": {
      "application/vnd.jupyter.widget-view+json": {
       "model_id": "f40287576a0c419ca820950b24e72b24",
       "version_major": 2,
       "version_minor": 0
      },
      "text/plain": [
       "VBox(children=(Button(button_style='danger', description='Clear My Pins', layout=Layout(margin='10px', width='…"
      ]
     },
     "metadata": {},
     "output_type": "display_data"
    }
   ],
   "source": [
    "from ipyleaflet import Map, Marker, Popup, Icon\n",
    "from ipywidgets import HTML, Button, VBox, Layout\n",
    "\n",
    "class HomelessResourceMap:\n",
    "    def __init__(self):\n",
    "        # Center on Long Island\n",
    "        self.map = Map(\n",
    "            center=(40.7891, -73.1350),\n",
    "            zoom=9,\n",
    "            scroll_wheel_zoom=True,\n",
    "            layout=Layout(height='600px')\n",
    "        )\n",
    "        self.markers = []\n",
    "        \n",
    "        # Resource locations dictionary\n",
    "        self.resources = {\n",
    "            'LICH': {\n",
    "                'coords': (40.7085, -73.404),\n",
    "                'name': 'Long Island Coalition for the Homeless',\n",
    "                'address': '600 Albany Avenue, Amityville, NY 11701',\n",
    "                'phone': '(631) 464-4314',\n",
    "                'hours': 'Mon-Fri: 9am-5pm'\n",
    "            },\n",
    "            'HHB': {\n",
    "                'coords': (40.8564, -73.4030),\n",
    "                'name': 'Helping Hand Rescue Mission',\n",
    "                'address': '225 Broadway, Huntington Station, NY 11746',\n",
    "                'phone': '(631) 351-6996',\n",
    "                'hours': 'Mon-Sat: 9am-4pm'\n",
    "            },\n",
    "            'MHAW': {\n",
    "                'coords': (40.8079, -73.1213),\n",
    "                'name': 'Association for Mental Health and Wellness',\n",
    "                'address': '939 Johnson Avenue, Ronkonkoma, NY 11779',\n",
    "                'phone': '(631) 471-7242',\n",
    "                'hours': 'Mon-Fri: 9am-5pm'\n",
    "            }\n",
    "        }\n",
    "        \n",
    "        # Add permanent resource markers\n",
    "        self.add_resource_markers()\n",
    "        \n",
    "        # Add user pin functionality\n",
    "        def handle_interaction(**kwargs):\n",
    "            if kwargs.get('type') in ['click', 'contextmenu']:\n",
    "                coords = kwargs.get('coordinates')\n",
    "                self.add_user_pin(coords)\n",
    "        \n",
    "        self.map.on_interaction(handle_interaction)\n",
    "        \n",
    "        # Clear button for user pins\n",
    "        self.clear_button = Button(\n",
    "            description='Clear My Pins',\n",
    "            button_style='danger',\n",
    "            layout=Layout(width='150px', margin='10px')\n",
    "        )\n",
    "        self.clear_button.on_click(self.clear_user_pins)\n",
    "        \n",
    "        display(VBox([self.clear_button, self.map]))\n",
    "    \n",
    "    def add_resource_markers(self):\n",
    "        orange_icon = Icon(\n",
    "            icon_url='https://raw.githubusercontent.com/pointhi/leaflet-color-markers/master/img/marker-icon-orange.png',\n",
    "            icon_size=[25, 41],\n",
    "            icon_anchor=[12, 41]\n",
    "        )\n",
    "        \n",
    "        for resource_id, info in self.resources.items():\n",
    "            popup_content = f\"\"\"\n",
    "                <div style='padding: 10px; max-width: 200px;'>\n",
    "                    <h4>{info['name']}</h4>\n",
    "                    <p><strong>Address:</strong><br>{info['address']}</p>\n",
    "                    <p><strong>Phone:</strong><br>{info['phone']}</p>\n",
    "                    <p><strong>Hours:</strong><br>{info['hours']}</p>\n",
    "                </div>\n",
    "            \"\"\"\n",
    "            popup = HTML(popup_content)\n",
    "            \n",
    "            marker = Marker(\n",
    "                location=info['coords'],\n",
    "                draggable=False,\n",
    "                title=info['name'],\n",
    "                popup=popup,\n",
    "                icon=orange_icon\n",
    "            )\n",
    "            self.map.add_layer(marker)\n",
    "    \n",
    "    def add_user_pin(self, coords):\n",
    "        marker = Marker(\n",
    "            location=coords,\n",
    "            draggable=True,\n",
    "            title=f\"Lat: {coords[0]:.4f}, Lng: {coords[1]:.4f}\"\n",
    "        )\n",
    "        self.markers.append(marker)\n",
    "        self.map.add_layer(marker)\n",
    "        print(f\"User pin dropped at: Lat {coords[0]:.4f}, Lng {coords[1]:.4f}\")\n",
    "    \n",
    "    def clear_user_pins(self, b):\n",
    "        for marker in self.markers:\n",
    "            self.map.remove_layer(marker)\n",
    "        self.markers = []\n",
    "\n",
    "# Create the map instance\n",
    "resource_map = HomelessResourceMap()"
   ]
  }
 ],
 "metadata": {
  "kernelspec": {
   "display_name": ".venv",
   "language": "python",
   "name": "python3"
  },
  "language_info": {
   "codemirror_mode": {
    "name": "ipython",
    "version": 3
   },
   "file_extension": ".py",
   "mimetype": "text/x-python",
   "name": "python",
   "nbconvert_exporter": "python",
   "pygments_lexer": "ipython3",
   "version": "3.11.9"
  }
 },
 "nbformat": 4,
 "nbformat_minor": 2
}
